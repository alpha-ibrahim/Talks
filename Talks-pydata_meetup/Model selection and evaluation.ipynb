{
 "cells": [
  {
   "cell_type": "markdown",
   "metadata": {},
   "source": [
    "# PyDate Johannesburg Meetup\n",
    "## Model Evaluation & Validation\n",
    "##  Predicting Capetown Southern Suburbs Housing Prices\n",
    "### Notebook by [Alpha Hamadou Ibrahim](https://za.linkedin.com/in/alphaibrahim)\n"
   ]
  },
  {
   "cell_type": "markdown",
   "metadata": {},
   "source": [
    "## Introduction\n",
    "\n",
    "Model selection and evaluation are crucial parts of every data science project. Knowing what model to use given a problem, tuning the model and evaluating it with an appropriate metric are indispensable skills that a data scientist should have.\n",
    "The aim of this notebook is to illustrate the concepts of model selection, evaluation and hyper-parameters tuning using a simple model.  The model  has been trained to predict the monetary value of a home on data collected in South African suburbs.\n"
   ]
  },
  {
   "cell_type": "markdown",
   "metadata": {},
   "source": [
    "## Data exploration"
   ]
  },
  {
   "cell_type": "markdown",
   "metadata": {},
   "source": [
    "It is aways a good idea to do some exploratory data analysis to understand the data set at hand. In the next cell, we are going to import the necessary libraries and load the data set that will be used for the analysis."
   ]
  },
  {
   "cell_type": "code",
   "execution_count": 54,
   "metadata": {
    "collapsed": false
   },
   "outputs": [
    {
     "name": "stdout",
     "output_type": "stream",
     "text": [
      "Housing dataset has 2939 data points with 24 variables each.\n"
     ]
    }
   ],
   "source": [
    "# Suppress matplotlib user warnings\n",
    "# Necessary for newer version of matplotlib\n",
    "import warnings\n",
    "warnings.filterwarnings(\"ignore\", category = UserWarning, module = \"matplotlib\")\n",
    "\n",
    "# Import libraries necessary for this project\n",
    "import numpy as np\n",
    "import pandas as pd\n",
    "import visuals as vs # Supplementary code\n",
    "from sklearn.cross_validation import ShuffleSplit\n",
    "\n",
    "# This line tells the notebook to show plots inside of the notebook\n",
    "%matplotlib inline\n",
    "\n",
    "import matplotlib.pyplot as plt\n",
    "import seaborn as sb\n",
    "\n",
    "# Load the housing dataset\n",
    "data = pd.read_csv('Southern_Suburb_Housing_Prices.csv')\n",
    "#prices = data['MEDV']\n",
    "#features = data.drop('MEDV', axis = 1)\n",
    "    \n",
    "# Success\n",
    "print \"Housing dataset has {} data points with {} variables each.\".format(*data.shape)"
   ]
  },
  {
   "cell_type": "markdown",
   "metadata": {},
   "source": [
    "The dataset contains information about 2939 properties. Lets display the first five rows of the data to get an idea of the type of variables it contains."
   ]
  },
  {
   "cell_type": "code",
   "execution_count": 55,
   "metadata": {
    "collapsed": false
   },
   "outputs": [
    {
     "data": {
      "text/html": [
       "<div>\n",
       "<table border=\"1\" class=\"dataframe\">\n",
       "  <thead>\n",
       "    <tr style=\"text-align: right;\">\n",
       "      <th></th>\n",
       "      <th>region</th>\n",
       "      <th>area</th>\n",
       "      <th>suburb</th>\n",
       "      <th>subsuburb</th>\n",
       "      <th>type</th>\n",
       "      <th>land_size</th>\n",
       "      <th>dwell_size</th>\n",
       "      <th>condition</th>\n",
       "      <th>property_age</th>\n",
       "      <th>beds</th>\n",
       "      <th>...</th>\n",
       "      <th>pbays</th>\n",
       "      <th>pool</th>\n",
       "      <th>staff</th>\n",
       "      <th>buyer_source</th>\n",
       "      <th>buyer_origin_country</th>\n",
       "      <th>buyer_origin_region</th>\n",
       "      <th>finance_type</th>\n",
       "      <th>list_price</th>\n",
       "      <th>sales_price</th>\n",
       "      <th>value_of_thing</th>\n",
       "    </tr>\n",
       "  </thead>\n",
       "  <tbody>\n",
       "    <tr>\n",
       "      <th>0</th>\n",
       "      <td>Western Cape</td>\n",
       "      <td>Southern Suburbs</td>\n",
       "      <td>Athlone</td>\n",
       "      <td>none</td>\n",
       "      <td>APRT</td>\n",
       "      <td>50.0</td>\n",
       "      <td>50.0</td>\n",
       "      <td>Fair</td>\n",
       "      <td>6.0</td>\n",
       "      <td>2.0</td>\n",
       "      <td>...</td>\n",
       "      <td>1.0</td>\n",
       "      <td>0</td>\n",
       "      <td>0</td>\n",
       "      <td>Website</td>\n",
       "      <td>South Africa</td>\n",
       "      <td>Western Cape</td>\n",
       "      <td>Bond</td>\n",
       "      <td>499000.0</td>\n",
       "      <td>480000.0</td>\n",
       "      <td>120</td>\n",
       "    </tr>\n",
       "    <tr>\n",
       "      <th>1</th>\n",
       "      <td>Western Cape</td>\n",
       "      <td>Southern Suburbs</td>\n",
       "      <td>Athlone</td>\n",
       "      <td>none</td>\n",
       "      <td>APRT</td>\n",
       "      <td>60.0</td>\n",
       "      <td>60.0</td>\n",
       "      <td>Fair</td>\n",
       "      <td>5.0</td>\n",
       "      <td>2.0</td>\n",
       "      <td>...</td>\n",
       "      <td>1.0</td>\n",
       "      <td>0</td>\n",
       "      <td>0</td>\n",
       "      <td>Referral</td>\n",
       "      <td>South Africa</td>\n",
       "      <td>Western Cape</td>\n",
       "      <td>Cash</td>\n",
       "      <td>440000.0</td>\n",
       "      <td>365000.0</td>\n",
       "      <td>44</td>\n",
       "    </tr>\n",
       "    <tr>\n",
       "      <th>2</th>\n",
       "      <td>Western Cape</td>\n",
       "      <td>Southern Suburbs</td>\n",
       "      <td>Athlone</td>\n",
       "      <td>none</td>\n",
       "      <td>APRT</td>\n",
       "      <td>92.0</td>\n",
       "      <td>92.0</td>\n",
       "      <td>Good</td>\n",
       "      <td>7.0</td>\n",
       "      <td>3.0</td>\n",
       "      <td>...</td>\n",
       "      <td>0.0</td>\n",
       "      <td>0</td>\n",
       "      <td>0</td>\n",
       "      <td>Press - Advertisement</td>\n",
       "      <td>South Africa</td>\n",
       "      <td>Western Cape</td>\n",
       "      <td>Bond</td>\n",
       "      <td>500000.0</td>\n",
       "      <td>460000.0</td>\n",
       "      <td>120</td>\n",
       "    </tr>\n",
       "    <tr>\n",
       "      <th>3</th>\n",
       "      <td>Western Cape</td>\n",
       "      <td>Southern Suburbs</td>\n",
       "      <td>Athlone</td>\n",
       "      <td>none</td>\n",
       "      <td>DS HSE</td>\n",
       "      <td>505.0</td>\n",
       "      <td>72.0</td>\n",
       "      <td>Good</td>\n",
       "      <td>56.0</td>\n",
       "      <td>3.0</td>\n",
       "      <td>...</td>\n",
       "      <td>0.0</td>\n",
       "      <td>0</td>\n",
       "      <td>0</td>\n",
       "      <td>Telephone</td>\n",
       "      <td>South Africa</td>\n",
       "      <td>Western Cape</td>\n",
       "      <td>Cash</td>\n",
       "      <td>950000.0</td>\n",
       "      <td>920000.0</td>\n",
       "      <td>4</td>\n",
       "    </tr>\n",
       "    <tr>\n",
       "      <th>4</th>\n",
       "      <td>Western Cape</td>\n",
       "      <td>Southern Suburbs</td>\n",
       "      <td>Athlone</td>\n",
       "      <td>none</td>\n",
       "      <td>SS HSE</td>\n",
       "      <td>217.0</td>\n",
       "      <td>74.0</td>\n",
       "      <td>Good</td>\n",
       "      <td>38.0</td>\n",
       "      <td>2.0</td>\n",
       "      <td>...</td>\n",
       "      <td>0.0</td>\n",
       "      <td>0</td>\n",
       "      <td>0</td>\n",
       "      <td>Website</td>\n",
       "      <td>South Africa</td>\n",
       "      <td>Western Cape</td>\n",
       "      <td>Bond</td>\n",
       "      <td>650000.0</td>\n",
       "      <td>620000.0</td>\n",
       "      <td>7</td>\n",
       "    </tr>\n",
       "  </tbody>\n",
       "</table>\n",
       "<p>5 rows × 24 columns</p>\n",
       "</div>"
      ],
      "text/plain": [
       "         region              area   suburb subsuburb    type  land_size  \\\n",
       "0  Western Cape  Southern Suburbs  Athlone      none    APRT       50.0   \n",
       "1  Western Cape  Southern Suburbs  Athlone      none    APRT       60.0   \n",
       "2  Western Cape  Southern Suburbs  Athlone      none    APRT       92.0   \n",
       "3  Western Cape  Southern Suburbs  Athlone      none  DS HSE      505.0   \n",
       "4  Western Cape  Southern Suburbs  Athlone      none  SS HSE      217.0   \n",
       "\n",
       "   dwell_size condition  property_age  beds      ...        pbays  pool  \\\n",
       "0        50.0      Fair           6.0   2.0      ...          1.0     0   \n",
       "1        60.0      Fair           5.0   2.0      ...          1.0     0   \n",
       "2        92.0      Good           7.0   3.0      ...          0.0     0   \n",
       "3        72.0      Good          56.0   3.0      ...          0.0     0   \n",
       "4        74.0      Good          38.0   2.0      ...          0.0     0   \n",
       "\n",
       "   staff           buyer_source  buyer_origin_country  buyer_origin_region  \\\n",
       "0      0                Website          South Africa         Western Cape   \n",
       "1      0               Referral          South Africa         Western Cape   \n",
       "2      0  Press - Advertisement          South Africa         Western Cape   \n",
       "3      0              Telephone          South Africa         Western Cape   \n",
       "4      0                Website          South Africa         Western Cape   \n",
       "\n",
       "   finance_type list_price sales_price value_of_thing  \n",
       "0          Bond   499000.0    480000.0            120  \n",
       "1          Cash   440000.0    365000.0             44  \n",
       "2          Bond   500000.0    460000.0            120  \n",
       "3          Cash   950000.0    920000.0              4  \n",
       "4          Bond   650000.0    620000.0              7  \n",
       "\n",
       "[5 rows x 24 columns]"
      ]
     },
     "execution_count": 55,
     "metadata": {},
     "output_type": "execute_result"
    }
   ],
   "source": [
    "data.head()"
   ]
  },
  {
   "cell_type": "markdown",
   "metadata": {
    "collapsed": false
   },
   "source": [
    "In order to have an idea of the distribution of the properties with respect to the different attributes, I am plotting the the number of properties with against some of the variables."
   ]
  },
  {
   "cell_type": "code",
   "execution_count": 56,
   "metadata": {
    "collapsed": false,
    "scrolled": false
   },
   "outputs": [
    {
     "data": {
      "text/plain": [
       "<matplotlib.text.Text at 0x7f0adda9ed10>"
      ]
     },
     "execution_count": 56,
     "metadata": {},
     "output_type": "execute_result"
    },
    {
     "data": {
      "image/png": "[encoded data removed]",
      "text/plain": [
       "<matplotlib.figure.Figure at 0x7f0adde7e990>"
      ]
     },
     "metadata": {},
     "output_type": "display_data"
    },
    {
     "data": {
      "image/png": "[encoded data removed]",
      "text/plain": [
       "<matplotlib.figure.Figure at 0x7f0ade2a5a90>"
      ]
     },
     "metadata": {},
     "output_type": "display_data"
    },
    {
     "data": {
      "image/png": "[encoded data removed]",
      "text/plain": [
       "<matplotlib.figure.Figure at 0x7f0ade45f790>"
      ]
     },
     "metadata": {},
     "output_type": "display_data"
    },
    {
     "data": {
      "image/png": "[encoded data removed]",
      "text/plain": [
       "<matplotlib.figure.Figure at 0x7f0ade97aa50>"
      ]
     },
     "metadata": {},
     "output_type": "display_data"
    },
    {
     "data": {
      "image/png": "[encoded data removed]",
      "text/plain": [
       "<matplotlib.figure.Figure at 0x7f0ade116d90>"
      ]
     },
     "metadata": {},
     "output_type": "display_data"
    },
    {
     "data": {
      "image/png": "[encoded data removed]",
      "text/plain": [
       "<matplotlib.figure.Figure at 0x7f0ade4365d0>"
      ]
     },
     "metadata": {},
     "output_type": "display_data"
    }
   ],
   "source": [
    "data[['type','land_size']].groupby('type').count().plot(kind='bar', legend=False).set_ylabel(\"Count\")\n",
    "data[['buyer_source','land_size']].groupby('buyer_source').count().plot(kind='bar', legend=False).set_ylabel(\"Count\")\n",
    "data[['buyer_origin_country','land_size']].groupby('buyer_origin_country').count().plot(kind='bar', legend=False).set_ylabel(\"Count\")\n",
    "data[['finance_type','land_size']].groupby('finance_type').count().plot(kind='bar', legend=False).set_ylabel(\"Count\")\n",
    "data[['suburb','land_size']].groupby('suburb').count().plot(kind='bar', legend=False).set_ylabel(\"Count\")\n",
    "data[['condition','land_size']].groupby('condition').count().plot(kind='bar', legend=False).set_ylabel(\"Count\")"
   ]
  },
  {
   "cell_type": "markdown",
   "metadata": {},
   "source": [
    "I would also be interesting to see the distrubution of the properties as a function of the sale price. For that, I am going to create buckets to group prices. For example all properties with a price between 0 and R1 000 000 will be part of bucket '0 - 1M'."
   ]
  },
  {
   "cell_type": "code",
   "execution_count": 57,
   "metadata": {
    "collapsed": false
   },
   "outputs": [
    {
     "data": {
      "text/html": [
       "<div>\n",
       "<table border=\"1\" class=\"dataframe\">\n",
       "  <thead>\n",
       "    <tr style=\"text-align: right;\">\n",
       "      <th></th>\n",
       "      <th>region</th>\n",
       "      <th>area</th>\n",
       "      <th>suburb</th>\n",
       "      <th>subsuburb</th>\n",
       "      <th>type</th>\n",
       "      <th>land_size</th>\n",
       "      <th>dwell_size</th>\n",
       "      <th>condition</th>\n",
       "      <th>property_age</th>\n",
       "      <th>beds</th>\n",
       "      <th>...</th>\n",
       "      <th>pool</th>\n",
       "      <th>staff</th>\n",
       "      <th>buyer_source</th>\n",
       "      <th>buyer_origin_country</th>\n",
       "      <th>buyer_origin_region</th>\n",
       "      <th>finance_type</th>\n",
       "      <th>list_price</th>\n",
       "      <th>sales_price</th>\n",
       "      <th>value_of_thing</th>\n",
       "      <th>price_bins</th>\n",
       "    </tr>\n",
       "  </thead>\n",
       "  <tbody>\n",
       "    <tr>\n",
       "      <th>0</th>\n",
       "      <td>Western Cape</td>\n",
       "      <td>Southern Suburbs</td>\n",
       "      <td>Athlone</td>\n",
       "      <td>none</td>\n",
       "      <td>APRT</td>\n",
       "      <td>50.0</td>\n",
       "      <td>50.0</td>\n",
       "      <td>Fair</td>\n",
       "      <td>6.0</td>\n",
       "      <td>2.0</td>\n",
       "      <td>...</td>\n",
       "      <td>0</td>\n",
       "      <td>0</td>\n",
       "      <td>Website</td>\n",
       "      <td>South Africa</td>\n",
       "      <td>Western Cape</td>\n",
       "      <td>Bond</td>\n",
       "      <td>499000.0</td>\n",
       "      <td>480000.0</td>\n",
       "      <td>120</td>\n",
       "      <td>0 -1M</td>\n",
       "    </tr>\n",
       "    <tr>\n",
       "      <th>1</th>\n",
       "      <td>Western Cape</td>\n",
       "      <td>Southern Suburbs</td>\n",
       "      <td>Athlone</td>\n",
       "      <td>none</td>\n",
       "      <td>APRT</td>\n",
       "      <td>60.0</td>\n",
       "      <td>60.0</td>\n",
       "      <td>Fair</td>\n",
       "      <td>5.0</td>\n",
       "      <td>2.0</td>\n",
       "      <td>...</td>\n",
       "      <td>0</td>\n",
       "      <td>0</td>\n",
       "      <td>Referral</td>\n",
       "      <td>South Africa</td>\n",
       "      <td>Western Cape</td>\n",
       "      <td>Cash</td>\n",
       "      <td>440000.0</td>\n",
       "      <td>365000.0</td>\n",
       "      <td>44</td>\n",
       "      <td>0 -1M</td>\n",
       "    </tr>\n",
       "    <tr>\n",
       "      <th>2</th>\n",
       "      <td>Western Cape</td>\n",
       "      <td>Southern Suburbs</td>\n",
       "      <td>Athlone</td>\n",
       "      <td>none</td>\n",
       "      <td>APRT</td>\n",
       "      <td>92.0</td>\n",
       "      <td>92.0</td>\n",
       "      <td>Good</td>\n",
       "      <td>7.0</td>\n",
       "      <td>3.0</td>\n",
       "      <td>...</td>\n",
       "      <td>0</td>\n",
       "      <td>0</td>\n",
       "      <td>Press - Advertisement</td>\n",
       "      <td>South Africa</td>\n",
       "      <td>Western Cape</td>\n",
       "      <td>Bond</td>\n",
       "      <td>500000.0</td>\n",
       "      <td>460000.0</td>\n",
       "      <td>120</td>\n",
       "      <td>0 -1M</td>\n",
       "    </tr>\n",
       "    <tr>\n",
       "      <th>3</th>\n",
       "      <td>Western Cape</td>\n",
       "      <td>Southern Suburbs</td>\n",
       "      <td>Athlone</td>\n",
       "      <td>none</td>\n",
       "      <td>DS HSE</td>\n",
       "      <td>505.0</td>\n",
       "      <td>72.0</td>\n",
       "      <td>Good</td>\n",
       "      <td>56.0</td>\n",
       "      <td>3.0</td>\n",
       "      <td>...</td>\n",
       "      <td>0</td>\n",
       "      <td>0</td>\n",
       "      <td>Telephone</td>\n",
       "      <td>South Africa</td>\n",
       "      <td>Western Cape</td>\n",
       "      <td>Cash</td>\n",
       "      <td>950000.0</td>\n",
       "      <td>920000.0</td>\n",
       "      <td>4</td>\n",
       "      <td>0 -1M</td>\n",
       "    </tr>\n",
       "    <tr>\n",
       "      <th>4</th>\n",
       "      <td>Western Cape</td>\n",
       "      <td>Southern Suburbs</td>\n",
       "      <td>Athlone</td>\n",
       "      <td>none</td>\n",
       "      <td>SS HSE</td>\n",
       "      <td>217.0</td>\n",
       "      <td>74.0</td>\n",
       "      <td>Good</td>\n",
       "      <td>38.0</td>\n",
       "      <td>2.0</td>\n",
       "      <td>...</td>\n",
       "      <td>0</td>\n",
       "      <td>0</td>\n",
       "      <td>Website</td>\n",
       "      <td>South Africa</td>\n",
       "      <td>Western Cape</td>\n",
       "      <td>Bond</td>\n",
       "      <td>650000.0</td>\n",
       "      <td>620000.0</td>\n",
       "      <td>7</td>\n",
       "      <td>0 -1M</td>\n",
       "    </tr>\n",
       "  </tbody>\n",
       "</table>\n",
       "<p>5 rows × 25 columns</p>\n",
       "</div>"
      ],
      "text/plain": [
       "         region              area   suburb subsuburb    type  land_size  \\\n",
       "0  Western Cape  Southern Suburbs  Athlone      none    APRT       50.0   \n",
       "1  Western Cape  Southern Suburbs  Athlone      none    APRT       60.0   \n",
       "2  Western Cape  Southern Suburbs  Athlone      none    APRT       92.0   \n",
       "3  Western Cape  Southern Suburbs  Athlone      none  DS HSE      505.0   \n",
       "4  Western Cape  Southern Suburbs  Athlone      none  SS HSE      217.0   \n",
       "\n",
       "   dwell_size condition  property_age  beds    ...      pool  staff  \\\n",
       "0        50.0      Fair           6.0   2.0    ...         0      0   \n",
       "1        60.0      Fair           5.0   2.0    ...         0      0   \n",
       "2        92.0      Good           7.0   3.0    ...         0      0   \n",
       "3        72.0      Good          56.0   3.0    ...         0      0   \n",
       "4        74.0      Good          38.0   2.0    ...         0      0   \n",
       "\n",
       "            buyer_source  buyer_origin_country  buyer_origin_region  \\\n",
       "0                Website          South Africa         Western Cape   \n",
       "1               Referral          South Africa         Western Cape   \n",
       "2  Press - Advertisement          South Africa         Western Cape   \n",
       "3              Telephone          South Africa         Western Cape   \n",
       "4                Website          South Africa         Western Cape   \n",
       "\n",
       "   finance_type  list_price sales_price value_of_thing price_bins  \n",
       "0          Bond    499000.0    480000.0            120      0 -1M  \n",
       "1          Cash    440000.0    365000.0             44      0 -1M  \n",
       "2          Bond    500000.0    460000.0            120      0 -1M  \n",
       "3          Cash    950000.0    920000.0              4      0 -1M  \n",
       "4          Bond    650000.0    620000.0              7      0 -1M  \n",
       "\n",
       "[5 rows x 25 columns]"
      ]
     },
     "execution_count": 57,
     "metadata": {},
     "output_type": "execute_result"
    }
   ],
   "source": [
    "# Create the different bins\n",
    "bins = [0, 1000000, 2000000, 3000000, 4000000, 5000000, 6000000, 7000000, 8000000, 9000000, 10000000, 40000000]\n",
    "names = ['0 -1M', '1M - 2M', '2M - 3M', '3M - 4M', '4M - 5M', '5M - 6M', '6M - 7M', '7M - 8M',  '8M - 9M', '9M - 10M', '10M+']\n",
    "\n",
    "data['price_bins'] = pd.cut(data['sales_price'], bins, labels=names)\n",
    "data.head()"
   ]
  },
  {
   "cell_type": "code",
   "execution_count": 58,
   "metadata": {
    "collapsed": false
   },
   "outputs": [
    {
     "data": {
      "text/plain": [
       "<matplotlib.text.Text at 0x7f0ade3c3790>"
      ]
     },
     "execution_count": 58,
     "metadata": {},
     "output_type": "execute_result"
    },
    {
     "data": {
      "image/png": "[encoded data removed]",
      "text/plain": [
       "<matplotlib.figure.Figure at 0x7f0ade3b6810>"
      ]
     },
     "metadata": {},
     "output_type": "display_data"
    }
   ],
   "source": [
    "data[['price_bins','land_size']].groupby('price_bins').count().plot(kind='bar', legend=False).set_ylabel(\"Count\")"
   ]
  },
  {
   "cell_type": "markdown",
   "metadata": {},
   "source": [
    "Since we have both the listed price and the sale price, it would be interesting to see at what percentage of the listed price most properties are sold. For that, I am going to calculate the percentage and put the result into bands like I did with prices above."
   ]
  },
  {
   "cell_type": "code",
   "execution_count": 59,
   "metadata": {
    "collapsed": false
   },
   "outputs": [],
   "source": [
    "#data['price_difference'] = data['list_price'] - data['sales_price']\n",
    "data['percentage_list_price'] = data['sales_price']/data['list_price']"
   ]
  },
  {
   "cell_type": "code",
   "execution_count": 60,
   "metadata": {
    "collapsed": false
   },
   "outputs": [
    {
     "data": {
      "text/plain": [
       "<matplotlib.text.Text at 0x7f0ade31ba90>"
      ]
     },
     "execution_count": 60,
     "metadata": {},
     "output_type": "execute_result"
    },
    {
     "data": {
      "image/png": "[encoded data removed]",
      "text/plain": [
       "<matplotlib.figure.Figure at 0x7f0add8e5e90>"
      ]
     },
     "metadata": {},
     "output_type": "display_data"
    }
   ],
   "source": [
    "bins = [0, 0.4, 0.5, 0.6, 0.7, 0.8, 0.9, 1, 2]\n",
    "names = ['0 - 40%', '40% - 50%', '50% - 60%', '60% - 70%', '70% - 80%', '80% - 90%', '90% - 100%', '100% +']\n",
    "#categories = pd.cut(data['sales_price'], bins, labels=names)\n",
    "data['price_percentage_bins'] = pd.cut(data['percentage_list_price'], bins, labels=names)\n",
    "data.head()\n",
    "data[['price_percentage_bins','land_size']].groupby('price_percentage_bins').count().plot(kind='bar', legend=False).set_ylabel(\"Count\")"
   ]
  },
  {
   "cell_type": "markdown",
   "metadata": {},
   "source": [
    "## Preparing the Data\n",
    "In this section, we will prepare the data for modeling, training and testing.\n",
    "First I am going to drop all the fields I that I think will not be useful for the prediction.\n"
   ]
  },
  {
   "cell_type": "code",
   "execution_count": 61,
   "metadata": {
    "collapsed": false
   },
   "outputs": [
    {
     "data": {
      "text/html": [
       "<div>\n",
       "<table border=\"1\" class=\"dataframe\">\n",
       "  <thead>\n",
       "    <tr style=\"text-align: right;\">\n",
       "      <th></th>\n",
       "      <th>suburb</th>\n",
       "      <th>subsuburb</th>\n",
       "      <th>type</th>\n",
       "      <th>land_size</th>\n",
       "      <th>dwell_size</th>\n",
       "      <th>condition</th>\n",
       "      <th>property_age</th>\n",
       "      <th>beds</th>\n",
       "      <th>baths</th>\n",
       "      <th>receptions</th>\n",
       "      <th>studies</th>\n",
       "      <th>garages</th>\n",
       "      <th>pbays</th>\n",
       "      <th>pool</th>\n",
       "      <th>staff</th>\n",
       "      <th>sales_price</th>\n",
       "    </tr>\n",
       "  </thead>\n",
       "  <tbody>\n",
       "    <tr>\n",
       "      <th>0</th>\n",
       "      <td>Athlone</td>\n",
       "      <td>none</td>\n",
       "      <td>APRT</td>\n",
       "      <td>50.0</td>\n",
       "      <td>50.0</td>\n",
       "      <td>Fair</td>\n",
       "      <td>6.0</td>\n",
       "      <td>2.0</td>\n",
       "      <td>1.0</td>\n",
       "      <td>1.0</td>\n",
       "      <td>0.0</td>\n",
       "      <td>0.0</td>\n",
       "      <td>1.0</td>\n",
       "      <td>0</td>\n",
       "      <td>0</td>\n",
       "      <td>480000.0</td>\n",
       "    </tr>\n",
       "    <tr>\n",
       "      <th>1</th>\n",
       "      <td>Athlone</td>\n",
       "      <td>none</td>\n",
       "      <td>APRT</td>\n",
       "      <td>60.0</td>\n",
       "      <td>60.0</td>\n",
       "      <td>Fair</td>\n",
       "      <td>5.0</td>\n",
       "      <td>2.0</td>\n",
       "      <td>1.0</td>\n",
       "      <td>2.0</td>\n",
       "      <td>0.0</td>\n",
       "      <td>0.0</td>\n",
       "      <td>1.0</td>\n",
       "      <td>0</td>\n",
       "      <td>0</td>\n",
       "      <td>365000.0</td>\n",
       "    </tr>\n",
       "    <tr>\n",
       "      <th>2</th>\n",
       "      <td>Athlone</td>\n",
       "      <td>none</td>\n",
       "      <td>APRT</td>\n",
       "      <td>92.0</td>\n",
       "      <td>92.0</td>\n",
       "      <td>Good</td>\n",
       "      <td>7.0</td>\n",
       "      <td>3.0</td>\n",
       "      <td>2.0</td>\n",
       "      <td>1.0</td>\n",
       "      <td>0.0</td>\n",
       "      <td>0.0</td>\n",
       "      <td>0.0</td>\n",
       "      <td>0</td>\n",
       "      <td>0</td>\n",
       "      <td>460000.0</td>\n",
       "    </tr>\n",
       "    <tr>\n",
       "      <th>3</th>\n",
       "      <td>Athlone</td>\n",
       "      <td>none</td>\n",
       "      <td>DS HSE</td>\n",
       "      <td>505.0</td>\n",
       "      <td>72.0</td>\n",
       "      <td>Good</td>\n",
       "      <td>56.0</td>\n",
       "      <td>3.0</td>\n",
       "      <td>3.0</td>\n",
       "      <td>1.0</td>\n",
       "      <td>0.0</td>\n",
       "      <td>2.0</td>\n",
       "      <td>0.0</td>\n",
       "      <td>0</td>\n",
       "      <td>0</td>\n",
       "      <td>920000.0</td>\n",
       "    </tr>\n",
       "    <tr>\n",
       "      <th>4</th>\n",
       "      <td>Athlone</td>\n",
       "      <td>none</td>\n",
       "      <td>SS HSE</td>\n",
       "      <td>217.0</td>\n",
       "      <td>74.0</td>\n",
       "      <td>Good</td>\n",
       "      <td>38.0</td>\n",
       "      <td>2.0</td>\n",
       "      <td>1.0</td>\n",
       "      <td>1.0</td>\n",
       "      <td>0.0</td>\n",
       "      <td>0.0</td>\n",
       "      <td>0.0</td>\n",
       "      <td>0</td>\n",
       "      <td>0</td>\n",
       "      <td>620000.0</td>\n",
       "    </tr>\n",
       "  </tbody>\n",
       "</table>\n",
       "</div>"
      ],
      "text/plain": [
       "    suburb subsuburb    type  land_size  dwell_size condition  property_age  \\\n",
       "0  Athlone      none    APRT       50.0        50.0      Fair           6.0   \n",
       "1  Athlone      none    APRT       60.0        60.0      Fair           5.0   \n",
       "2  Athlone      none    APRT       92.0        92.0      Good           7.0   \n",
       "3  Athlone      none  DS HSE      505.0        72.0      Good          56.0   \n",
       "4  Athlone      none  SS HSE      217.0        74.0      Good          38.0   \n",
       "\n",
       "   beds  baths  receptions  studies  garages  pbays  pool  staff  sales_price  \n",
       "0   2.0    1.0         1.0      0.0      0.0    1.0     0      0     480000.0  \n",
       "1   2.0    1.0         2.0      0.0      0.0    1.0     0      0     365000.0  \n",
       "2   3.0    2.0         1.0      0.0      0.0    0.0     0      0     460000.0  \n",
       "3   3.0    3.0         1.0      0.0      2.0    0.0     0      0     920000.0  \n",
       "4   2.0    1.0         1.0      0.0      0.0    0.0     0      0     620000.0  "
      ]
     },
     "execution_count": 61,
     "metadata": {},
     "output_type": "execute_result"
    }
   ],
   "source": [
    "data.drop(['list_price','region', 'area', 'buyer_source', 'buyer_origin_country','finance_type', 'buyer_origin_region', 'value_of_thing', 'price_bins', 'percentage_list_price', 'price_percentage_bins' ], axis = 1, inplace = True)\n",
    "data.head()\n"
   ]
  },
  {
   "cell_type": "code",
   "execution_count": null,
   "metadata": {
    "collapsed": false
   },
   "outputs": [],
   "source": []
  },
  {
   "cell_type": "markdown",
   "metadata": {},
   "source": [
    "### Identify feature and target columns\n",
    "It is often the case that the data you obtain contains non-numeric features. This can be a problem, as most machine learning algorithms expect numeric data to perform computations with.\n",
    "\n",
    "In the cell below I am separate the  data into feature and target columns to see if any features are non-numeric. Since we are trying to predict the sale price of properties, the target column is *sales_price*."
   ]
  },
  {
   "cell_type": "code",
   "execution_count": 64,
   "metadata": {
    "collapsed": false
   },
   "outputs": [
    {
     "name": "stdout",
     "output_type": "stream",
     "text": [
      "Feature columns:\n",
      "['suburb', 'subsuburb', 'type', 'land_size', 'dwell_size', 'condition', 'property_age', 'beds', 'baths', 'receptions', 'studies', 'garages', 'pbays', 'pool', 'staff']\n",
      "\n",
      "Target column: sales_price\n",
      "\n",
      "Feature values:\n",
      "    suburb subsuburb    type  land_size  dwell_size condition  property_age  \\\n",
      "0  Athlone      none    APRT       50.0        50.0      Fair           6.0   \n",
      "1  Athlone      none    APRT       60.0        60.0      Fair           5.0   \n",
      "2  Athlone      none    APRT       92.0        92.0      Good           7.0   \n",
      "3  Athlone      none  DS HSE      505.0        72.0      Good          56.0   \n",
      "4  Athlone      none  SS HSE      217.0        74.0      Good          38.0   \n",
      "\n",
      "   beds  baths  receptions  studies  garages  pbays  pool  staff  \n",
      "0   2.0    1.0         1.0      0.0      0.0    1.0     0      0  \n",
      "1   2.0    1.0         2.0      0.0      0.0    1.0     0      0  \n",
      "2   3.0    2.0         1.0      0.0      0.0    0.0     0      0  \n",
      "3   3.0    3.0         1.0      0.0      2.0    0.0     0      0  \n",
      "4   2.0    1.0         1.0      0.0      0.0    0.0     0      0  \n"
     ]
    }
   ],
   "source": [
    "# Extract feature columns\n",
    "feature_cols = list(data.columns[:-1])\n",
    "\n",
    "# Extract target column 'passed'\n",
    "target_col = data.columns[-1] \n",
    "\n",
    "# Show the list of columns\n",
    "print \"Feature columns:\\n{}\".format(feature_cols)\n",
    "print \"\\nTarget column: {}\".format(target_col)\n",
    "\n",
    "# Separate the data into feature data and target data (X_all and y_all, respectively)\n",
    "X_all = data[feature_cols]\n",
    "y_all = data[target_col]\n",
    "\n",
    "# Show the feature information by printing the first five rows\n",
    "print \"\\nFeature values:\"\n",
    "print X_all.head()"
   ]
  },
  {
   "cell_type": "markdown",
   "metadata": {},
   "source": [
    "### Preprocess Feature Columns\n",
    "\n",
    "As you can see, there are several non-numeric columns that need to be converted! \n",
    "\n",
    "Columns like `type` and `suburb`, have more than two values, and are known as _categorical variables_. The recommended way to handle such a column is to create as many columns as possible values (e.g. `type_APRT`, `type_CLUSTER`, `type_DUPLEX`, etc.), and assign a `1` to one of them and `0` to all others. This transformation is also called *one-hot encoding*.\n",
    "\n",
    "These generated columns are sometimes called _dummy variables_. I am going to use the [`pandas.get_dummies()`](http://pandas.pydata.org/pandas-docs/stable/generated/pandas.get_dummies.html?highlight=get_dummies#pandas.get_dummies) function to perform this transformation."
   ]
  },
  {
   "cell_type": "code",
   "execution_count": 65,
   "metadata": {
    "collapsed": false
   },
   "outputs": [
    {
     "name": "stdout",
     "output_type": "stream",
     "text": [
      "Processed feature columns (53 total features):\n",
      "['suburb_Athlone', 'suburb_Bishopscourt', 'suburb_Claremont', 'suburb_Harfield', 'suburb_Kenilworth', 'suburb_Mowbray', 'suburb_Newlands', 'suburb_Observatory', 'suburb_Pinelands', 'suburb_Rondebosch', 'suburb_Rosebank', 'suburb_Thornton', 'suburb_Wynberg', 'subsuburb_Claremont Upper', 'subsuburb_Fernwood', 'subsuburb_Hiddingh', 'subsuburb_Kenilworth Upper', 'subsuburb_Lynfrae', 'subsuburb_The Village', 'subsuburb_Wynberg Upper', 'subsuburb_below Belvedere', 'subsuburb_below Rosmead', 'subsuburb_none', 'type_APRT', 'type_CLUSTER', 'type_DS HSE', 'type_DUPLEX', 'type_GRG', 'type_PBAY', 'type_RETIRE', 'type_SEC EST', 'type_SEMI', 'type_SHR BLK', 'type_SIMPLEX', 'type_SS HSE', 'type_STRM', 'type_TS HSE', 'type_VCNT', 'land_size', 'dwell_size', 'condition_Excellent', 'condition_Fair', 'condition_Good', 'condition_Poor', 'property_age', 'beds', 'baths', 'receptions', 'studies', 'garages', 'pbays', 'pool', 'staff']\n"
     ]
    }
   ],
   "source": [
    "def preprocess_features(X):\n",
    "    ''' Preprocesses the data and converts categorical variables into dummy variables. '''\n",
    "    \n",
    "    # Initialize new output DataFrame\n",
    "    output = pd.DataFrame(index = X.index)\n",
    "\n",
    "    # Investigate each feature column for the data\n",
    "    for col, col_data in X.iteritems():\n",
    "        \n",
    "        # If data type is categorical, convert to dummy variables\n",
    "        if col_data.dtype == object:\n",
    "            # Example: 'type' => 'type_APRT' and 'type_DUPLEX'\n",
    "            col_data = pd.get_dummies(col_data, prefix = col)  \n",
    "        \n",
    "        # Collect the revised columns\n",
    "        output = output.join(col_data)\n",
    "    \n",
    "    return output\n",
    "\n",
    "X_all = preprocess_features(X_all)\n",
    "print \"Processed feature columns ({} total features):\\n{}\".format(len(X_all.columns), list(X_all.columns))"
   ]
  },
  {
   "cell_type": "code",
   "execution_count": 66,
   "metadata": {
    "collapsed": false
   },
   "outputs": [
    {
     "data": {
      "text/html": [
       "<div>\n",
       "<table border=\"1\" class=\"dataframe\">\n",
       "  <thead>\n",
       "    <tr style=\"text-align: right;\">\n",
       "      <th></th>\n",
       "      <th>suburb_Athlone</th>\n",
       "      <th>suburb_Bishopscourt</th>\n",
       "      <th>suburb_Claremont</th>\n",
       "      <th>suburb_Harfield</th>\n",
       "      <th>suburb_Kenilworth</th>\n",
       "      <th>suburb_Mowbray</th>\n",
       "      <th>suburb_Newlands</th>\n",
       "      <th>suburb_Observatory</th>\n",
       "      <th>suburb_Pinelands</th>\n",
       "      <th>suburb_Rondebosch</th>\n",
       "      <th>...</th>\n",
       "      <th>condition_Poor</th>\n",
       "      <th>property_age</th>\n",
       "      <th>beds</th>\n",
       "      <th>baths</th>\n",
       "      <th>receptions</th>\n",
       "      <th>studies</th>\n",
       "      <th>garages</th>\n",
       "      <th>pbays</th>\n",
       "      <th>pool</th>\n",
       "      <th>staff</th>\n",
       "    </tr>\n",
       "  </thead>\n",
       "  <tbody>\n",
       "    <tr>\n",
       "      <th>0</th>\n",
       "      <td>1.0</td>\n",
       "      <td>0.0</td>\n",
       "      <td>0.0</td>\n",
       "      <td>0.0</td>\n",
       "      <td>0.0</td>\n",
       "      <td>0.0</td>\n",
       "      <td>0.0</td>\n",
       "      <td>0.0</td>\n",
       "      <td>0.0</td>\n",
       "      <td>0.0</td>\n",
       "      <td>...</td>\n",
       "      <td>0.0</td>\n",
       "      <td>6.0</td>\n",
       "      <td>2.0</td>\n",
       "      <td>1.0</td>\n",
       "      <td>1.0</td>\n",
       "      <td>0.0</td>\n",
       "      <td>0.0</td>\n",
       "      <td>1.0</td>\n",
       "      <td>0</td>\n",
       "      <td>0</td>\n",
       "    </tr>\n",
       "    <tr>\n",
       "      <th>1</th>\n",
       "      <td>1.0</td>\n",
       "      <td>0.0</td>\n",
       "      <td>0.0</td>\n",
       "      <td>0.0</td>\n",
       "      <td>0.0</td>\n",
       "      <td>0.0</td>\n",
       "      <td>0.0</td>\n",
       "      <td>0.0</td>\n",
       "      <td>0.0</td>\n",
       "      <td>0.0</td>\n",
       "      <td>...</td>\n",
       "      <td>0.0</td>\n",
       "      <td>5.0</td>\n",
       "      <td>2.0</td>\n",
       "      <td>1.0</td>\n",
       "      <td>2.0</td>\n",
       "      <td>0.0</td>\n",
       "      <td>0.0</td>\n",
       "      <td>1.0</td>\n",
       "      <td>0</td>\n",
       "      <td>0</td>\n",
       "    </tr>\n",
       "    <tr>\n",
       "      <th>2</th>\n",
       "      <td>1.0</td>\n",
       "      <td>0.0</td>\n",
       "      <td>0.0</td>\n",
       "      <td>0.0</td>\n",
       "      <td>0.0</td>\n",
       "      <td>0.0</td>\n",
       "      <td>0.0</td>\n",
       "      <td>0.0</td>\n",
       "      <td>0.0</td>\n",
       "      <td>0.0</td>\n",
       "      <td>...</td>\n",
       "      <td>0.0</td>\n",
       "      <td>7.0</td>\n",
       "      <td>3.0</td>\n",
       "      <td>2.0</td>\n",
       "      <td>1.0</td>\n",
       "      <td>0.0</td>\n",
       "      <td>0.0</td>\n",
       "      <td>0.0</td>\n",
       "      <td>0</td>\n",
       "      <td>0</td>\n",
       "    </tr>\n",
       "    <tr>\n",
       "      <th>3</th>\n",
       "      <td>1.0</td>\n",
       "      <td>0.0</td>\n",
       "      <td>0.0</td>\n",
       "      <td>0.0</td>\n",
       "      <td>0.0</td>\n",
       "      <td>0.0</td>\n",
       "      <td>0.0</td>\n",
       "      <td>0.0</td>\n",
       "      <td>0.0</td>\n",
       "      <td>0.0</td>\n",
       "      <td>...</td>\n",
       "      <td>0.0</td>\n",
       "      <td>56.0</td>\n",
       "      <td>3.0</td>\n",
       "      <td>3.0</td>\n",
       "      <td>1.0</td>\n",
       "      <td>0.0</td>\n",
       "      <td>2.0</td>\n",
       "      <td>0.0</td>\n",
       "      <td>0</td>\n",
       "      <td>0</td>\n",
       "    </tr>\n",
       "    <tr>\n",
       "      <th>4</th>\n",
       "      <td>1.0</td>\n",
       "      <td>0.0</td>\n",
       "      <td>0.0</td>\n",
       "      <td>0.0</td>\n",
       "      <td>0.0</td>\n",
       "      <td>0.0</td>\n",
       "      <td>0.0</td>\n",
       "      <td>0.0</td>\n",
       "      <td>0.0</td>\n",
       "      <td>0.0</td>\n",
       "      <td>...</td>\n",
       "      <td>0.0</td>\n",
       "      <td>38.0</td>\n",
       "      <td>2.0</td>\n",
       "      <td>1.0</td>\n",
       "      <td>1.0</td>\n",
       "      <td>0.0</td>\n",
       "      <td>0.0</td>\n",
       "      <td>0.0</td>\n",
       "      <td>0</td>\n",
       "      <td>0</td>\n",
       "    </tr>\n",
       "  </tbody>\n",
       "</table>\n",
       "<p>5 rows × 53 columns</p>\n",
       "</div>"
      ],
      "text/plain": [
       "   suburb_Athlone  suburb_Bishopscourt  suburb_Claremont  suburb_Harfield  \\\n",
       "0             1.0                  0.0               0.0              0.0   \n",
       "1             1.0                  0.0               0.0              0.0   \n",
       "2             1.0                  0.0               0.0              0.0   \n",
       "3             1.0                  0.0               0.0              0.0   \n",
       "4             1.0                  0.0               0.0              0.0   \n",
       "\n",
       "   suburb_Kenilworth  suburb_Mowbray  suburb_Newlands  suburb_Observatory  \\\n",
       "0                0.0             0.0              0.0                 0.0   \n",
       "1                0.0             0.0              0.0                 0.0   \n",
       "2                0.0             0.0              0.0                 0.0   \n",
       "3                0.0             0.0              0.0                 0.0   \n",
       "4                0.0             0.0              0.0                 0.0   \n",
       "\n",
       "   suburb_Pinelands  suburb_Rondebosch  ...    condition_Poor  property_age  \\\n",
       "0               0.0                0.0  ...               0.0           6.0   \n",
       "1               0.0                0.0  ...               0.0           5.0   \n",
       "2               0.0                0.0  ...               0.0           7.0   \n",
       "3               0.0                0.0  ...               0.0          56.0   \n",
       "4               0.0                0.0  ...               0.0          38.0   \n",
       "\n",
       "   beds  baths  receptions  studies  garages  pbays  pool  staff  \n",
       "0   2.0    1.0         1.0      0.0      0.0    1.0     0      0  \n",
       "1   2.0    1.0         2.0      0.0      0.0    1.0     0      0  \n",
       "2   3.0    2.0         1.0      0.0      0.0    0.0     0      0  \n",
       "3   3.0    3.0         1.0      0.0      2.0    0.0     0      0  \n",
       "4   2.0    1.0         1.0      0.0      0.0    0.0     0      0  \n",
       "\n",
       "[5 rows x 53 columns]"
      ]
     },
     "execution_count": 66,
     "metadata": {},
     "output_type": "execute_result"
    }
   ],
   "source": [
    "X_all.head()"
   ]
  },
  {
   "cell_type": "markdown",
   "metadata": {},
   "source": [
    "\n",
    "### Implementation: Training and Testing Data Split\n",
    "So far, we have converted all _categorical_ features into numeric values. For the next step, I am going to split the data (both features and corresponding labels) into training and test sets. In the following code cell below,   I will randomly shuffle and split the data (`X_all`, `y_all`) into training (80% of the data) and testing (20% of the data) subsets."
   ]
  },
  {
   "cell_type": "code",
   "execution_count": 67,
   "metadata": {
    "collapsed": false
   },
   "outputs": [
    {
     "name": "stdout",
     "output_type": "stream",
     "text": [
      "Training set has 2351 samples.\n",
      "Testing set has 588 samples.\n"
     ]
    }
   ],
   "source": [
    "# Import train_test_split\n",
    "from  sklearn.cross_validation import train_test_split\n",
    "\n",
    "seed = 0\n",
    "# TODO: Shuffle and split the dataset into the number of training and testing points above\n",
    "X_train, X_test, y_train, y_test = train_test_split(X_all, y_all, test_size=0.20, random_state=seed)\n",
    "\n",
    "# Show the results of the split\n",
    "print \"Training set has {} samples.\".format(X_train.shape[0])\n",
    "print \"Testing set has {} samples.\".format(X_test.shape[0])"
   ]
  },
  {
   "cell_type": "markdown",
   "metadata": {},
   "source": [
    "#### Defining a scoring function\n",
    "\n",
    "Depending on the problem at hand, one would want to define a scoring metric to optimised to model on. In the cell below, I am defining a funtion that I will use as a scorer to evaluate the model. I am using the R2 or the *coeficient of determination*. But this can be generalised to any metric."
   ]
  },
  {
   "cell_type": "code",
   "execution_count": 68,
   "metadata": {
    "collapsed": true
   },
   "outputs": [],
   "source": [
    "# Import 'r2_score'\n",
    "from sklearn.metrics import r2_score\n",
    "def performance_metric(y_true, y_predict):\n",
    "    \"\"\" Calculates and returns the performance score between \n",
    "        true and predicted values based on the metric chosen. \"\"\"\n",
    "    # Calculate the performance score between 'y_true' and 'y_predict'\n",
    "    score = r2_score(y_true, y_predict) \n",
    "    \n",
    "    # Return the score\n",
    "    return score"
   ]
  },
  {
   "cell_type": "markdown",
   "metadata": {},
   "source": [
    "#### What model should I use\n",
    "Choosing an appropriate model for a given problem can be a disficult task. It is a good idea to use the map below [1]. This flowchart is designed to give users a bit of a rough guide on how to approach problems with regard to which estimators to try on your data.\n",
    "\n",
    "<img src = \"ml_map.png\" width=\"1000\" height=\"200\">\n",
    "\n",
    "Since I am trying to predict a quantity (sale_price), I will use an algorithm in the regression quadrant. However, depending on the situation, it might still be unclear what algorithm to use in tha quadrant. In the next cell, I am going to compute the prediction score for a number of these algorighm. I will then choose the algorithm with the best score. This method is not perfect, but it is a quick way to get a rough idea about what algorithm to use."
   ]
  },
  {
   "cell_type": "code",
   "execution_count": 69,
   "metadata": {
    "collapsed": false
   },
   "outputs": [
    {
     "name": "stdout",
     "output_type": "stream",
     "text": [
      "GB: 0.785057 (0.090029)\n",
      "RF: 0.803442 (0.079728)\n",
      "RIDGE: 0.795482 (0.056235)\n",
      "CART: 0.671375 (0.113846)\n",
      "LASSO: 0.794522 (0.056379)\n",
      "ENET: 0.793873 (0.059369)\n"
     ]
    },
    {
     "name": "stderr",
     "output_type": "stream",
     "text": [
      "/usr/local/lib/python2.7/dist-packages/sklearn/linear_model/coordinate_descent.py:444: ConvergenceWarning: Objective did not converge. You might want to increase the number of iterations\n",
      "  ConvergenceWarning)\n"
     ]
    },
    {
     "data": {
      "image/png": "[encoded data removed]",
      "text/plain": [
       "<matplotlib.figure.Figure at 0x7f0b10b61250>"
      ]
     },
     "metadata": {},
     "output_type": "display_data"
    }
   ],
   "source": [
    "from sklearn.tree import DecisionTreeRegressor\n",
    "from sklearn import ensemble\n",
    "from sklearn.svm import SVC\n",
    "from sklearn.linear_model import Lasso\n",
    "from sklearn.linear_model import ElasticNet\n",
    "from sklearn import linear_model\n",
    "\n",
    "# TODO: Initialize the three models\n",
    "#clf_A = DecisionTreeClassifier(random_state=seed)\n",
    "#clf_B = ensemble.GradientBoostingClassifier(random_state=seed)\n",
    "#clf_C = SVC(random_state=seed)\n",
    "\n",
    "# Compare Algorithms\n",
    "from sklearn import cross_validation\n",
    "from sklearn.linear_model import LogisticRegression\n",
    "from sklearn.neighbors import KNeighborsRegressor\n",
    "from sklearn.naive_bayes import GaussianNB\n",
    "# prepare configuration for cross validation test harness\n",
    "num_instances = len(X_train)\n",
    "# prepare models\n",
    "models = []\n",
    "#models.append(('LR', LogisticRegression()))\n",
    "models.append(('GB',ensemble.GradientBoostingRegressor(random_state = 0)))\n",
    "models.append(('RF',ensemble.RandomForestRegressor(random_state = 0)))\n",
    "models.append(('RIDGE', linear_model.Ridge (alpha = .5)))\n",
    "models.append(('CART', DecisionTreeRegressor(random_state = 0)))\n",
    "models.append(('LASSO', Lasso(alpha=0.1)))\n",
    "models.append(('ENET',  ElasticNet(alpha=0.1, l1_ratio=0.7)))\n",
    "# evaluate each model in turn\n",
    "results = []\n",
    "names = []\n",
    "\n",
    "\n",
    "from sklearn.metrics import make_scorer\n",
    "scoring_func = make_scorer(performance_metric, greater_is_better=True)\n",
    "\n",
    "for name, model in models:\n",
    "\tkfold = cross_validation.KFold(n=num_instances, n_folds=10, random_state=0)\n",
    "\tcv_results = cross_validation.cross_val_score(model, X_train, y_train, cv=kfold, scoring=scoring_func)\n",
    "\tresults.append(cv_results)\n",
    "\tnames.append(name)\n",
    "\tmsg = \"%s: %f (%f)\" % (name, cv_results.mean(), cv_results.std())\n",
    "\tprint(msg)\n",
    "# boxplot algorithm comparison\n",
    "fig = plt.figure()\n",
    "fig.suptitle('Algorithm Comparison')\n",
    "ax = fig.add_subplot(111)\n",
    "plt.boxplot(results)\n",
    "ax.set_xticklabels(names)\n",
    "ax.set_xlabel('Models')\n",
    "ax.set_ylabel('Score')\n",
    "plt.show()"
   ]
  },
  {
   "cell_type": "markdown",
   "metadata": {},
   "source": [
    "#### Produce learning curves\n",
    "\n",
    "The Rasmdom forest regressor seem to be the best algorithm to use based on the score computed above. There are three main parameters that we are going to optimse for this algorithm. These are\n",
    "\n",
    "- n_estimators\n",
    "- max_depth\n",
    "- min_samples_leaf    \n",
    "\n",
    "In the cell below, I am producing a learning curve to see how the algorithm chage as I change the *max_depth* parameter."
   ]
  },
  {
   "cell_type": "code",
   "execution_count": 70,
   "metadata": {
    "collapsed": false
   },
   "outputs": [
    {
     "data": {
      "image/png": "[encoded data removed]",
      "text/plain": [
       "<matplotlib.figure.Figure at 0x7f0add973810>"
      ]
     },
     "metadata": {},
     "output_type": "display_data"
    }
   ],
   "source": [
    "# Produce learning curves for varying training set sizes and maximum depths\n",
    "vs.ModelLearning(X_all, y_all)"
   ]
  },
  {
   "cell_type": "markdown",
   "metadata": {
    "collapsed": false
   },
   "source": [
    "#### Tune hyper-parameters"
   ]
  },
  {
   "cell_type": "code",
   "execution_count": 71,
   "metadata": {
    "collapsed": false
   },
   "outputs": [],
   "source": [
    "#from sklearn import grid_search\n",
    "from sklearn.grid_search import GridSearchCV\n",
    "\n",
    "def fit_model(X, y):\n",
    "    \"\"\" Performs grid search over a set of parameters for a \n",
    "        random forest regressor trained on the input data [X, y]. \"\"\"\n",
    "    \n",
    "    # Create cross-validation sets from the training data\n",
    "    cv_sets = ShuffleSplit(X.shape[0], n_iter = 10, test_size = 0.20, random_state = 0)\n",
    "    print cv_sets\n",
    "    # Create a random forest regressor object\n",
    "    regressor = ensemble.RandomForestRegressor(random_state = 0, n_jobs = -1)\n",
    "\n",
    "    # Create a dictionary for the parameters to search over\n",
    "    params = {\n",
    "        'n_estimators': [10, 100, 200],\n",
    "        'max_depth': range(1,20),\n",
    "        'min_samples_leaf': [1,5,10]\n",
    "        \n",
    "    }\n",
    "\n",
    "    # ransform 'performance_metric' into a scoring function using 'make_scorer' \n",
    "    scoring_fnc = make_scorer(performance_metric, greater_is_better=True)\n",
    "\n",
    "    # Create the grid search object\n",
    "    grid = GridSearchCV(estimator=regressor, param_grid=params, scoring=scoring_fnc, cv=cv_sets)\n",
    "    \n",
    "    # Fit the grid search object to the data to compute the optimal model\n",
    "    grid = grid.fit(X, y)\n",
    "    #print grid.cv_results_\n",
    "    #print \"best score:\", grid.best_score_\n",
    "    #print \"best param:\", grid.best_params_\n",
    "    #print \"scorer:\", grid.scorer_\n",
    "    #print \"number of splits:\", grid.n_splits_\n",
    "    # Return the optimal model after fitting the data\n",
    "    return grid.best_estimator_\n"
   ]
  },
  {
   "cell_type": "code",
   "execution_count": 72,
   "metadata": {
    "collapsed": false
   },
   "outputs": [
    {
     "name": "stdout",
     "output_type": "stream",
     "text": [
      "ShuffleSplit(2351, n_iter=10, test_size=0.2, random_state=0)\n",
      "Parameters are {'warm_start': False, 'oob_score': False, 'n_jobs': -1, 'verbose': 0, 'max_leaf_nodes': None, 'bootstrap': True, 'min_samples_leaf': 1, 'n_estimators': 200, 'min_samples_split': 2, 'min_weight_fraction_leaf': 0.0, 'criterion': 'mse', 'random_state': 0, 'max_features': 'auto', 'max_depth': 17} for the optimal model.\n"
     ]
    }
   ],
   "source": [
    "reg = fit_model(X_train, y_train)        \n",
    "# Produce the value for parameters\n",
    "print \"Parameters are {} for the optimal model.\".format(reg.get_params())"
   ]
  },
  {
   "cell_type": "code",
   "execution_count": 74,
   "metadata": {
    "collapsed": false
   },
   "outputs": [
    {
     "name": "stdout",
     "output_type": "stream",
     "text": [
      "the train set score is 0.799042048998\n",
      "the test set score is 0.734967919737\n"
     ]
    }
   ],
   "source": [
    "kfold = cross_validation.KFold(n=len(X_train), n_folds=10, random_state=0)\n",
    "train_scores = cross_validation.cross_val_score(reg, X_train, y_train, cv=kfold, scoring=scoring_func)\n",
    "\n",
    "print \"the train set score is\", train_scores.mean()\n",
    "print \"the test set score is\", performance_metric(reg.predict(X_test), y_test)"
   ]
  },
  {
   "cell_type": "markdown",
   "metadata": {},
   "source": [
    "It is useful the display the features importance for the model. That is, how useful were each of the feature to the prediction. I am ploting only the first 11."
   ]
  },
  {
   "cell_type": "code",
   "execution_count": 75,
   "metadata": {
    "collapsed": false
   },
   "outputs": [
    {
     "name": "stdout",
     "output_type": "stream",
     "text": [
      "                           RF\n",
      "beds                 0.006510\n",
      "type_SS HSE          0.006978\n",
      "pbays                0.012027\n",
      "suburb_Newlands      0.012233\n",
      "receptions           0.017744\n",
      "garages              0.017946\n",
      "condition_Excellent  0.018461\n",
      "baths                0.026289\n",
      "property_age         0.032074\n",
      "dwell_size           0.344802\n",
      "land_size            0.464146\n"
     ]
    },
    {
     "data": {
      "text/plain": [
       "<matplotlib.axes.AxesSubplot at 0x7f0adc05c910>"
      ]
     },
     "execution_count": 75,
     "metadata": {},
     "output_type": "execute_result"
    },
    {
     "data": {
      "image/png": "[encoded data removed]",
      "text/plain": [
       "<matplotlib.figure.Figure at 0x7f0b0d643610>"
      ]
     },
     "metadata": {},
     "output_type": "display_data"
    }
   ],
   "source": [
    "importances = pd.DataFrame()\n",
    "importances[\"RF\"] = pd.Series(reg.feature_importances_, index = X_all.keys())\n",
    "importances.sort_values(by= \"RF\", axis=0, ascending=True, inplace=True, kind='quicksort', na_position='last')\n",
    "most_important = importances[importances['RF'] >= 0.006]\n",
    "print most_important\n",
    "most_important.plot(kind = \"barh\", legend=False)"
   ]
  },
  {
   "cell_type": "markdown",
   "metadata": {
    "collapsed": false
   },
   "source": [
    "Understandably so, the land size and the size of the house/appartment are the two most important feature for predicting the value of the property."
   ]
  },
  {
   "cell_type": "markdown",
   "metadata": {},
   "source": [
    "The plot of the residuals is another way to evalue a predictor. Ideally, the residuals should fall in a symmetrical pattern and have a constant spread throughout the range. "
   ]
  },
  {
   "cell_type": "code",
   "execution_count": 78,
   "metadata": {
    "collapsed": false
   },
   "outputs": [
    {
     "data": {
      "text/plain": [
       "<matplotlib.text.Text at 0x7f0add839e50>"
      ]
     },
     "execution_count": 78,
     "metadata": {},
     "output_type": "execute_result"
    },
    {
     "data": {
      "image/png": "[encoded data removed]",
      "text/plain": [
       "<matplotlib.figure.Figure at 0x7f0add7d5390>"
      ]
     },
     "metadata": {},
     "output_type": "display_data"
    }
   ],
   "source": [
    "residuals = y_test - reg.predict(X_test)\n",
    "x = range(0,len(residuals))\n",
    "\n",
    "len(x)\n",
    "df = pd.DataFrame()\n",
    "df['x'] = reg.predict(X_test)\n",
    "df['y'] = residuals\n",
    "df.plot(x = 'x', y= 'y', kind='scatter', legend=False, xlim = [0,5e6], ylim = [-2e6,2e6]).set_ylabel(\"residual\")"
   ]
  },
  {
   "cell_type": "markdown",
   "metadata": {},
   "source": [
    "### References and Further reading\n",
    "\n",
    "[1] Choosing the right estimator. [ONLINE] Available at: http://scikit-learn.org/stable/tutorial/machine_learning_map/. [Accessed 23 February 2017].\n",
    "\n",
    "[2] Validation curves: plotting scores to evaluate models. [ONLINE] Available at: http://scikit-learn.org/stable/modules/learning_curve.html. [Accessed 23 February 2017].\n",
    "\n",
    "[3] Tuning the parameters of your Random Forest model, [ONLINE] Available at: https://www.analyticsvidhya.com/blog/2015/06/tuning-random-forest-model/. [Accessed 23 February 2017].\n",
    "\n",
    "[4] Model evaluation, model selection, and algorithm selection in machine learning. Part I - The basics https://sebastianraschka.com/blog/2016/model-evaluation-selection-part1.html . [Accessed 23 February 2017].\n",
    "\n",
    "\n",
    "[5] Model evaluation, model selection, and algorithm selection in machine learning. Part II - Bootstrapping and uncertainties https://sebastianraschka.com/blog/2016/model-evaluation-selection-part2.html . [Accessed 23 February 2017].\n",
    "\n",
    "\n",
    "[6] Model evaluation, model selection, and algorithm selection in machine learning. Part III -Cross-validation and hyperparameter tuning https://sebastianraschka.com/blog/2016/model-evaluation-selection-part3.html . [Accessed 23 February 2017].\n",
    "\n",
    "\n",
    "[7] Approaching (Almost) Any Machine Learning Problem. https://www.linkedin.com/pulse/approaching-almost-any-machine-learning-problem-abhishek-thakur . [Accessed 23 February 2017].\n",
    "\n",
    "\n"
   ]
  }
 ],
 "metadata": {
  "kernelspec": {
   "display_name": "Python 2",
   "language": "python",
   "name": "python2"
  },
  "language_info": {
   "codemirror_mode": {
    "name": "ipython",
    "version": 2
   },
   "file_extension": ".py",
   "mimetype": "text/x-python",
   "name": "python",
   "nbconvert_exporter": "python",
   "pygments_lexer": "ipython2",
   "version": "2.7.8"
  }
 },
 "nbformat": 4,
 "nbformat_minor": 2
}
